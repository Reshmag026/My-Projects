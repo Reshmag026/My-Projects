{
  "nbformat": 4,
  "nbformat_minor": 0,
  "metadata": {
    "colab": {
      "provenance": [],
      "authorship_tag": "ABX9TyNfhaB08k4hOEknhTqzwuBE",
      "include_colab_link": true
    },
    "kernelspec": {
      "name": "python3",
      "display_name": "Python 3"
    },
    "language_info": {
      "name": "python"
    }
  },
  "cells": [
    {
      "cell_type": "markdown",
      "metadata": {
        "id": "view-in-github",
        "colab_type": "text"
      },
      "source": [
        "<a href=\"https://colab.research.google.com/github/Reshmag026/My-Projects/blob/main/Amazon_sales.ipynb\" target=\"_parent\"><img src=\"https://colab.research.google.com/assets/colab-badge.svg\" alt=\"Open In Colab\"/></a>"
      ]
    },
    {
      "cell_type": "markdown",
      "source": [
        "Importing Libraries"
      ],
      "metadata": {
        "id": "4LSiimT20vNv"
      }
    },
    {
      "cell_type": "code",
      "execution_count": null,
      "metadata": {
        "id": "aZeqludmU1eW"
      },
      "outputs": [],
      "source": [
        "import numpy as np\n",
        "import pandas as pd\n",
        "import matplotlib.pyplot as plt\n",
        "import seaborn as sns"
      ]
    },
    {
      "cell_type": "markdown",
      "source": [
        "Loading the dataset"
      ],
      "metadata": {
        "id": "xJgQ6mCEzjr9"
      }
    },
    {
      "cell_type": "code",
      "source": [
        "dt=pd.read_csv(\"/content/Amazon Sale Report.csv\")"
      ],
      "metadata": {
        "colab": {
          "base_uri": "https://localhost:8080/"
        },
        "id": "mEmylgYl04bE",
        "outputId": "454d3efa-16d6-4d78-a53c-86ad1cfe5e6a"
      },
      "execution_count": null,
      "outputs": [
        {
          "output_type": "stream",
          "name": "stderr",
          "text": [
            "<ipython-input-2-42ab1a6cc165>:1: DtypeWarning: Columns (23) have mixed types. Specify dtype option on import or set low_memory=False.\n",
            "  dt=pd.read_csv(\"/content/Amazon Sale Report.csv\")\n"
          ]
        }
      ]
    },
    {
      "cell_type": "markdown",
      "source": [
        "Shape"
      ],
      "metadata": {
        "id": "xgd_nIhS1b7G"
      }
    },
    {
      "cell_type": "code",
      "source": [
        "dt.shape"
      ],
      "metadata": {
        "colab": {
          "base_uri": "https://localhost:8080/"
        },
        "id": "-SH1HYOd1eb8",
        "outputId": "53ab0d9e-e8fe-4e50-939f-2d08e22f4779"
      },
      "execution_count": null,
      "outputs": [
        {
          "output_type": "execute_result",
          "data": {
            "text/plain": [
              "(128975, 24)"
            ]
          },
          "metadata": {},
          "execution_count": 3
        }
      ]
    },
    {
      "cell_type": "markdown",
      "source": [
        "Columns"
      ],
      "metadata": {
        "id": "hL-oxbdv1kx5"
      }
    },
    {
      "cell_type": "code",
      "source": [
        "dt.columns"
      ],
      "metadata": {
        "colab": {
          "base_uri": "https://localhost:8080/"
        },
        "id": "jUlr5cFu1qYk",
        "outputId": "20e3e4d1-e2b3-43f7-962d-48f1c7df13c7"
      },
      "execution_count": null,
      "outputs": [
        {
          "output_type": "execute_result",
          "data": {
            "text/plain": [
              "Index(['index', 'Order ID', 'Date', 'Status', 'Fulfilment', 'Sales Channel ',\n",
              "       'ship-service-level', 'Style', 'SKU', 'Category', 'Size', 'ASIN',\n",
              "       'Courier Status', 'Qty', 'currency', 'Amount', 'ship-city',\n",
              "       'ship-state', 'ship-postal-code', 'ship-country', 'promotion-ids',\n",
              "       'B2B', 'fulfilled-by', 'Unnamed: 22'],\n",
              "      dtype='object')"
            ]
          },
          "metadata": {},
          "execution_count": 4
        }
      ]
    },
    {
      "cell_type": "markdown",
      "source": [
        "Basic Info"
      ],
      "metadata": {
        "id": "Rco3rPtw1ueM"
      }
    },
    {
      "cell_type": "code",
      "source": [
        "dt.info()"
      ],
      "metadata": {
        "colab": {
          "base_uri": "https://localhost:8080/"
        },
        "id": "RDwNWUBA1wTQ",
        "outputId": "5cb15ff3-0327-4269-b001-69d321abfac5"
      },
      "execution_count": null,
      "outputs": [
        {
          "output_type": "stream",
          "name": "stdout",
          "text": [
            "<class 'pandas.core.frame.DataFrame'>\n",
            "RangeIndex: 128975 entries, 0 to 128974\n",
            "Data columns (total 24 columns):\n",
            " #   Column              Non-Null Count   Dtype  \n",
            "---  ------              --------------   -----  \n",
            " 0   index               128975 non-null  int64  \n",
            " 1   Order ID            128975 non-null  object \n",
            " 2   Date                128975 non-null  object \n",
            " 3   Status              128975 non-null  object \n",
            " 4   Fulfilment          128975 non-null  object \n",
            " 5   Sales Channel       128975 non-null  object \n",
            " 6   ship-service-level  128975 non-null  object \n",
            " 7   Style               128975 non-null  object \n",
            " 8   SKU                 128975 non-null  object \n",
            " 9   Category            128975 non-null  object \n",
            " 10  Size                128975 non-null  object \n",
            " 11  ASIN                128975 non-null  object \n",
            " 12  Courier Status      122103 non-null  object \n",
            " 13  Qty                 128975 non-null  int64  \n",
            " 14  currency            121180 non-null  object \n",
            " 15  Amount              121180 non-null  float64\n",
            " 16  ship-city           128942 non-null  object \n",
            " 17  ship-state          128942 non-null  object \n",
            " 18  ship-postal-code    128942 non-null  float64\n",
            " 19  ship-country        128942 non-null  object \n",
            " 20  promotion-ids       79822 non-null   object \n",
            " 21  B2B                 128975 non-null  bool   \n",
            " 22  fulfilled-by        39277 non-null   object \n",
            " 23  Unnamed: 22         79925 non-null   object \n",
            "dtypes: bool(1), float64(2), int64(2), object(19)\n",
            "memory usage: 22.8+ MB\n"
          ]
        }
      ]
    },
    {
      "cell_type": "markdown",
      "source": [
        "Statistical Summary"
      ],
      "metadata": {
        "id": "glIvL95318T8"
      }
    },
    {
      "cell_type": "code",
      "source": [
        "dt.describe().style.background_gradient(cmap='Reds',low=0.5,high=1.0,axis=1)"
      ],
      "metadata": {
        "colab": {
          "base_uri": "https://localhost:8080/",
          "height": 300
        },
        "id": "Rsqp8qqu1_EI",
        "outputId": "90065f26-7e18-4d8b-bf90-8f8b6bdc6d24"
      },
      "execution_count": null,
      "outputs": [
        {
          "output_type": "execute_result",
          "data": {
            "text/plain": [
              "<pandas.io.formats.style.Styler at 0x7b11b93d0bb0>"
            ],
            "text/html": [
              "<style type=\"text/css\">\n",
              "#T_823dd_row0_col0, #T_823dd_row0_col1, #T_823dd_row0_col3, #T_823dd_row1_col3, #T_823dd_row2_col3, #T_823dd_row3_col3, #T_823dd_row4_col3, #T_823dd_row5_col3, #T_823dd_row6_col3, #T_823dd_row7_col3 {\n",
              "  background-color: #f14432;\n",
              "  color: #f1f1f1;\n",
              "}\n",
              "#T_823dd_row0_col2, #T_823dd_row1_col1, #T_823dd_row1_col2, #T_823dd_row2_col1, #T_823dd_row2_col2, #T_823dd_row3_col0, #T_823dd_row3_col1, #T_823dd_row3_col2, #T_823dd_row4_col1, #T_823dd_row4_col2, #T_823dd_row5_col1, #T_823dd_row5_col2, #T_823dd_row6_col1, #T_823dd_row6_col2, #T_823dd_row7_col1, #T_823dd_row7_col2 {\n",
              "  background-color: #fdcab5;\n",
              "  color: #000000;\n",
              "}\n",
              "#T_823dd_row1_col0 {\n",
              "  background-color: #fcb99f;\n",
              "  color: #000000;\n",
              "}\n",
              "#T_823dd_row2_col0 {\n",
              "  background-color: #fcb296;\n",
              "  color: #000000;\n",
              "}\n",
              "#T_823dd_row4_col0 {\n",
              "  background-color: #fcc1a8;\n",
              "  color: #000000;\n",
              "}\n",
              "#T_823dd_row5_col0, #T_823dd_row7_col0 {\n",
              "  background-color: #fcbba1;\n",
              "  color: #000000;\n",
              "}\n",
              "#T_823dd_row6_col0 {\n",
              "  background-color: #fcb79c;\n",
              "  color: #000000;\n",
              "}\n",
              "</style>\n",
              "<table id=\"T_823dd\" class=\"dataframe\">\n",
              "  <thead>\n",
              "    <tr>\n",
              "      <th class=\"blank level0\" >&nbsp;</th>\n",
              "      <th id=\"T_823dd_level0_col0\" class=\"col_heading level0 col0\" >index</th>\n",
              "      <th id=\"T_823dd_level0_col1\" class=\"col_heading level0 col1\" >Qty</th>\n",
              "      <th id=\"T_823dd_level0_col2\" class=\"col_heading level0 col2\" >Amount</th>\n",
              "      <th id=\"T_823dd_level0_col3\" class=\"col_heading level0 col3\" >ship-postal-code</th>\n",
              "    </tr>\n",
              "  </thead>\n",
              "  <tbody>\n",
              "    <tr>\n",
              "      <th id=\"T_823dd_level0_row0\" class=\"row_heading level0 row0\" >count</th>\n",
              "      <td id=\"T_823dd_row0_col0\" class=\"data row0 col0\" >128975.000000</td>\n",
              "      <td id=\"T_823dd_row0_col1\" class=\"data row0 col1\" >128975.000000</td>\n",
              "      <td id=\"T_823dd_row0_col2\" class=\"data row0 col2\" >121180.000000</td>\n",
              "      <td id=\"T_823dd_row0_col3\" class=\"data row0 col3\" >128942.000000</td>\n",
              "    </tr>\n",
              "    <tr>\n",
              "      <th id=\"T_823dd_level0_row1\" class=\"row_heading level0 row1\" >mean</th>\n",
              "      <td id=\"T_823dd_row1_col0\" class=\"data row1 col0\" >64487.000000</td>\n",
              "      <td id=\"T_823dd_row1_col1\" class=\"data row1 col1\" >0.904431</td>\n",
              "      <td id=\"T_823dd_row1_col2\" class=\"data row1 col2\" >648.561465</td>\n",
              "      <td id=\"T_823dd_row1_col3\" class=\"data row1 col3\" >463966.236509</td>\n",
              "    </tr>\n",
              "    <tr>\n",
              "      <th id=\"T_823dd_level0_row2\" class=\"row_heading level0 row2\" >std</th>\n",
              "      <td id=\"T_823dd_row2_col0\" class=\"data row2 col0\" >37232.019822</td>\n",
              "      <td id=\"T_823dd_row2_col1\" class=\"data row2 col1\" >0.313354</td>\n",
              "      <td id=\"T_823dd_row2_col2\" class=\"data row2 col2\" >281.211687</td>\n",
              "      <td id=\"T_823dd_row2_col3\" class=\"data row2 col3\" >191476.764941</td>\n",
              "    </tr>\n",
              "    <tr>\n",
              "      <th id=\"T_823dd_level0_row3\" class=\"row_heading level0 row3\" >min</th>\n",
              "      <td id=\"T_823dd_row3_col0\" class=\"data row3 col0\" >0.000000</td>\n",
              "      <td id=\"T_823dd_row3_col1\" class=\"data row3 col1\" >0.000000</td>\n",
              "      <td id=\"T_823dd_row3_col2\" class=\"data row3 col2\" >0.000000</td>\n",
              "      <td id=\"T_823dd_row3_col3\" class=\"data row3 col3\" >110001.000000</td>\n",
              "    </tr>\n",
              "    <tr>\n",
              "      <th id=\"T_823dd_level0_row4\" class=\"row_heading level0 row4\" >25%</th>\n",
              "      <td id=\"T_823dd_row4_col0\" class=\"data row4 col0\" >32243.500000</td>\n",
              "      <td id=\"T_823dd_row4_col1\" class=\"data row4 col1\" >1.000000</td>\n",
              "      <td id=\"T_823dd_row4_col2\" class=\"data row4 col2\" >449.000000</td>\n",
              "      <td id=\"T_823dd_row4_col3\" class=\"data row4 col3\" >382421.000000</td>\n",
              "    </tr>\n",
              "    <tr>\n",
              "      <th id=\"T_823dd_level0_row5\" class=\"row_heading level0 row5\" >50%</th>\n",
              "      <td id=\"T_823dd_row5_col0\" class=\"data row5 col0\" >64487.000000</td>\n",
              "      <td id=\"T_823dd_row5_col1\" class=\"data row5 col1\" >1.000000</td>\n",
              "      <td id=\"T_823dd_row5_col2\" class=\"data row5 col2\" >605.000000</td>\n",
              "      <td id=\"T_823dd_row5_col3\" class=\"data row5 col3\" >500033.000000</td>\n",
              "    </tr>\n",
              "    <tr>\n",
              "      <th id=\"T_823dd_level0_row6\" class=\"row_heading level0 row6\" >75%</th>\n",
              "      <td id=\"T_823dd_row6_col0\" class=\"data row6 col0\" >96730.500000</td>\n",
              "      <td id=\"T_823dd_row6_col1\" class=\"data row6 col1\" >1.000000</td>\n",
              "      <td id=\"T_823dd_row6_col2\" class=\"data row6 col2\" >788.000000</td>\n",
              "      <td id=\"T_823dd_row6_col3\" class=\"data row6 col3\" >600024.000000</td>\n",
              "    </tr>\n",
              "    <tr>\n",
              "      <th id=\"T_823dd_level0_row7\" class=\"row_heading level0 row7\" >max</th>\n",
              "      <td id=\"T_823dd_row7_col0\" class=\"data row7 col0\" >128974.000000</td>\n",
              "      <td id=\"T_823dd_row7_col1\" class=\"data row7 col1\" >15.000000</td>\n",
              "      <td id=\"T_823dd_row7_col2\" class=\"data row7 col2\" >5584.000000</td>\n",
              "      <td id=\"T_823dd_row7_col3\" class=\"data row7 col3\" >989898.000000</td>\n",
              "    </tr>\n",
              "  </tbody>\n",
              "</table>\n"
            ]
          },
          "metadata": {},
          "execution_count": 6
        }
      ]
    },
    {
      "cell_type": "markdown",
      "source": [
        "Drop Columns"
      ],
      "metadata": {
        "id": "I6FZd-P72IXx"
      }
    },
    {
      "cell_type": "code",
      "source": [
        "column_to_drop=[\"index\",\"Order ID\",\"SKU\",\"ASIN\",\"currency\",\"ship-postal-code\",\"ship-country\",\"promotion-ids\",\"fulfilled-by\",\"Unnamed: 22\",\"Style\"]\n",
        "dt.drop(columns=column_to_drop,axis=1,inplace=True)"
      ],
      "metadata": {
        "id": "Rz3ZIBvpBBqP"
      },
      "execution_count": null,
      "outputs": []
    },
    {
      "cell_type": "markdown",
      "source": [
        "Unique Values"
      ],
      "metadata": {
        "id": "WUXsaUw92_WE"
      }
    },
    {
      "cell_type": "code",
      "source": [
        "dt.apply(pd.unique)"
      ],
      "metadata": {
        "colab": {
          "base_uri": "https://localhost:8080/"
        },
        "id": "tbpXkqX8B6UZ",
        "outputId": "c40e5fd7-1a5f-452f-b15f-ae9748037b88"
      },
      "execution_count": null,
      "outputs": [
        {
          "output_type": "execute_result",
          "data": {
            "text/plain": [
              "Date                  [04-30-22, 04-29-22, 04-28-22, 04-27-22, 04-26...\n",
              "Status                [Cancelled, Shipped - Delivered to Buyer, Ship...\n",
              "Fulfilment                                           [Merchant, Amazon]\n",
              "Sales Channel                                   [Amazon.in, Non-Amazon]\n",
              "ship-service-level                                [Standard, Expedited]\n",
              "Category              [Set, kurta, Western Dress, Top, Ethnic Dress,...\n",
              "Size                   [S, 3XL, XL, L, XXL, XS, 6XL, M, 4XL, 5XL, Free]\n",
              "Courier Status                     [nan, Shipped, Cancelled, Unshipped]\n",
              "Qty                                    [0, 1, 2, 15, 3, 9, 13, 5, 4, 8]\n",
              "Amount                [647.62, 406.0, 329.0, 753.33, 574.0, 824.0, 6...\n",
              "ship-city             [MUMBAI, BENGALURU, NAVI MUMBAI, PUDUCHERRY, C...\n",
              "ship-state            [MAHARASHTRA, KARNATAKA, PUDUCHERRY, TAMIL NAD...\n",
              "B2B                                                       [False, True]\n",
              "dtype: object"
            ]
          },
          "metadata": {},
          "execution_count": 8
        }
      ]
    },
    {
      "cell_type": "code",
      "source": [
        "dt.nunique()"
      ],
      "metadata": {
        "colab": {
          "base_uri": "https://localhost:8080/"
        },
        "id": "21Gr0--lB9nW",
        "outputId": "5cb38a2d-2b5a-4c0e-ecfd-403812039af1"
      },
      "execution_count": null,
      "outputs": [
        {
          "output_type": "execute_result",
          "data": {
            "text/plain": [
              "Date                    91\n",
              "Status                  13\n",
              "Fulfilment               2\n",
              "Sales Channel            2\n",
              "ship-service-level       2\n",
              "Category                 9\n",
              "Size                    11\n",
              "Courier Status           3\n",
              "Qty                     10\n",
              "Amount                1410\n",
              "ship-city             8955\n",
              "ship-state              69\n",
              "B2B                      2\n",
              "dtype: int64"
            ]
          },
          "metadata": {},
          "execution_count": 9
        }
      ]
    },
    {
      "cell_type": "markdown",
      "source": [
        "Check Null values"
      ],
      "metadata": {
        "id": "XpN3O1qNCXyX"
      }
    },
    {
      "cell_type": "code",
      "source": [
        "dt.isnull().sum()"
      ],
      "metadata": {
        "colab": {
          "base_uri": "https://localhost:8080/"
        },
        "id": "01wS_lFKCbJN",
        "outputId": "74002379-4b6b-44d8-f270-6ab3f6384f5f"
      },
      "execution_count": null,
      "outputs": [
        {
          "output_type": "execute_result",
          "data": {
            "text/plain": [
              "Date                     0\n",
              "Status                   0\n",
              "Fulfilment               0\n",
              "Sales Channel            0\n",
              "ship-service-level       0\n",
              "Category                 0\n",
              "Size                     0\n",
              "Courier Status        6872\n",
              "Qty                      0\n",
              "Amount                7795\n",
              "ship-city               33\n",
              "ship-state              33\n",
              "B2B                      0\n",
              "dtype: int64"
            ]
          },
          "metadata": {},
          "execution_count": 10
        }
      ]
    },
    {
      "cell_type": "markdown",
      "source": [
        "Checking percentage of missing values"
      ],
      "metadata": {
        "id": "BdODoDH6Ch-E"
      }
    },
    {
      "cell_type": "code",
      "source": [
        "dt.isnull().sum()/len(dt)*100.00,2"
      ],
      "metadata": {
        "colab": {
          "base_uri": "https://localhost:8080/"
        },
        "id": "kJSiKjLZDJBL",
        "outputId": "a96b5663-bdea-4e76-be52-6601ea61ecf5"
      },
      "execution_count": null,
      "outputs": [
        {
          "output_type": "execute_result",
          "data": {
            "text/plain": [
              "(Date                  0.000000\n",
              " Status                0.000000\n",
              " Fulfilment            0.000000\n",
              " Sales Channel         0.000000\n",
              " ship-service-level    0.000000\n",
              " Category              0.000000\n",
              " Size                  0.000000\n",
              " Courier Status        5.328164\n",
              " Qty                   0.000000\n",
              " Amount                6.043807\n",
              " ship-city             0.025586\n",
              " ship-state            0.025586\n",
              " B2B                   0.000000\n",
              " dtype: float64,\n",
              " 2)"
            ]
          },
          "metadata": {},
          "execution_count": 11
        }
      ]
    },
    {
      "cell_type": "markdown",
      "source": [
        "Managing null value for Courier Status"
      ],
      "metadata": {
        "id": "4VwDgIB-DAnD"
      }
    },
    {
      "cell_type": "code",
      "source": [
        "dt['Courier Status'].fillna('unknown',inplace=True)"
      ],
      "metadata": {
        "id": "WWmPYWpiCl9h"
      },
      "execution_count": null,
      "outputs": []
    },
    {
      "cell_type": "code",
      "source": [],
      "metadata": {
        "id": "SmsXQ7dEE-Ut"
      },
      "execution_count": null,
      "outputs": []
    },
    {
      "cell_type": "markdown",
      "source": [
        "Managing null value for Ship-city"
      ],
      "metadata": {
        "id": "ZvRUxgwmFKcz"
      }
    },
    {
      "cell_type": "code",
      "source": [
        "dt['ship-city'].mode"
      ],
      "metadata": {
        "colab": {
          "base_uri": "https://localhost:8080/"
        },
        "id": "kkA0Z1m9FOj3",
        "outputId": "edbd8710-1cea-42f5-e418-972305fb0817"
      },
      "execution_count": null,
      "outputs": [
        {
          "output_type": "execute_result",
          "data": {
            "text/plain": [
              "<bound method Series.mode of 0              MUMBAI\n",
              "1           BENGALURU\n",
              "2         NAVI MUMBAI\n",
              "3          PUDUCHERRY\n",
              "4             CHENNAI\n",
              "             ...     \n",
              "128970      HYDERABAD\n",
              "128971       GURUGRAM\n",
              "128972      HYDERABAD\n",
              "128973          Halol\n",
              "128974         Raipur\n",
              "Name: ship-city, Length: 128975, dtype: object>"
            ]
          },
          "metadata": {},
          "execution_count": 13
        }
      ]
    },
    {
      "cell_type": "code",
      "source": [
        "dt['ship-city'].fillna('MUMBAI',inplace=True)"
      ],
      "metadata": {
        "id": "hiSoTRN2FQe8"
      },
      "execution_count": null,
      "outputs": []
    },
    {
      "cell_type": "markdown",
      "source": [
        "Managing null value for Ship-country"
      ],
      "metadata": {
        "id": "6jdh3QmqFcwL"
      }
    },
    {
      "cell_type": "code",
      "source": [
        "dt['ship-state'].mode"
      ],
      "metadata": {
        "colab": {
          "base_uri": "https://localhost:8080/"
        },
        "id": "mKhymG11FgSL",
        "outputId": "ab66c0d9-02ad-41b7-f48b-e8e8dd75cbe4"
      },
      "execution_count": null,
      "outputs": [
        {
          "output_type": "execute_result",
          "data": {
            "text/plain": [
              "<bound method Series.mode of 0          MAHARASHTRA\n",
              "1            KARNATAKA\n",
              "2          MAHARASHTRA\n",
              "3           PUDUCHERRY\n",
              "4           TAMIL NADU\n",
              "              ...     \n",
              "128970       TELANGANA\n",
              "128971         HARYANA\n",
              "128972       TELANGANA\n",
              "128973         Gujarat\n",
              "128974    CHHATTISGARH\n",
              "Name: ship-state, Length: 128975, dtype: object>"
            ]
          },
          "metadata": {},
          "execution_count": 15
        }
      ]
    },
    {
      "cell_type": "code",
      "source": [
        "dt['ship-state'].fillna('MAHARASHTRA',inplace=True)"
      ],
      "metadata": {
        "id": "hXdnKgXkFkl1"
      },
      "execution_count": null,
      "outputs": []
    },
    {
      "cell_type": "markdown",
      "source": [
        "Managing null value for Amount"
      ],
      "metadata": {
        "id": "63RCpUasGSBf"
      }
    },
    {
      "cell_type": "code",
      "source": [
        "dt[dt['Amount'].isnull()]['Status'].value_counts(normalize=True).apply(lambda x: format(x, '.2%'))"
      ],
      "metadata": {
        "colab": {
          "base_uri": "https://localhost:8080/"
        },
        "id": "F9Vl0J--GVVk",
        "outputId": "71d89452-0ca9-426f-ce75-de9eb3450892"
      },
      "execution_count": null,
      "outputs": [
        {
          "output_type": "execute_result",
          "data": {
            "text/plain": [
              "Cancelled                       97.06%\n",
              "Shipped                          2.67%\n",
              "Shipped - Delivered to Buyer     0.10%\n",
              "Shipping                         0.10%\n",
              "Shipped - Returned to Seller     0.04%\n",
              "Pending                          0.03%\n",
              "Name: Status, dtype: object"
            ]
          },
          "metadata": {},
          "execution_count": 17
        }
      ]
    },
    {
      "cell_type": "code",
      "source": [
        "dt['Amount'].fillna(0,inplace=True)"
      ],
      "metadata": {
        "id": "h6ilZmvLGhMb"
      },
      "execution_count": null,
      "outputs": []
    },
    {
      "cell_type": "markdown",
      "source": [
        "Renaming B2B to Customer type"
      ],
      "metadata": {
        "id": "RC0Y_ALAG1BI"
      }
    },
    {
      "cell_type": "code",
      "source": [
        "mapper={'B2B':'customer_type'}"
      ],
      "metadata": {
        "id": "6ZWtS1_AG5Ft"
      },
      "execution_count": null,
      "outputs": []
    },
    {
      "cell_type": "code",
      "source": [
        "dt.rename(columns=mapper, inplace =True)"
      ],
      "metadata": {
        "id": "BWdlxuOgHzKy"
      },
      "execution_count": null,
      "outputs": []
    },
    {
      "cell_type": "markdown",
      "source": [
        "Converting B2B column values"
      ],
      "metadata": {
        "id": "iy_0R7hfHQgw"
      }
    },
    {
      "cell_type": "code",
      "source": [
        "dt['customer_type'].replace(to_replace=[True,False],value=['business','customer'], inplace=True)"
      ],
      "metadata": {
        "id": "uc8rB3Z7HX0H"
      },
      "execution_count": null,
      "outputs": []
    },
    {
      "cell_type": "markdown",
      "source": [
        "Converting the format of date column and extracting month"
      ],
      "metadata": {
        "id": "koS_D_HGITPR"
      }
    },
    {
      "cell_type": "code",
      "source": [
        "dt['date'] = pd.to_datetime(dt['Date'])"
      ],
      "metadata": {
        "id": "VPo1JDCwIWjH"
      },
      "execution_count": null,
      "outputs": []
    },
    {
      "cell_type": "code",
      "source": [
        "dt.drop(columns='Date',axis=1,inplace=True)"
      ],
      "metadata": {
        "id": "QrIi4puHI4Wi"
      },
      "execution_count": null,
      "outputs": []
    },
    {
      "cell_type": "code",
      "source": [
        "dt['month_name']=dt['date'].dt.month_name()"
      ],
      "metadata": {
        "id": "YVHRIzTYLEqA"
      },
      "execution_count": null,
      "outputs": []
    },
    {
      "cell_type": "code",
      "source": [
        "dt.isnull().sum()"
      ],
      "metadata": {
        "colab": {
          "base_uri": "https://localhost:8080/"
        },
        "id": "EsMRAeGlMNAC",
        "outputId": "b6f886f7-ae74-450c-e389-d84631b0f762"
      },
      "execution_count": null,
      "outputs": [
        {
          "output_type": "execute_result",
          "data": {
            "text/plain": [
              "Status                0\n",
              "Fulfilment            0\n",
              "Sales Channel         0\n",
              "ship-service-level    0\n",
              "Category              0\n",
              "Size                  0\n",
              "Courier Status        0\n",
              "Qty                   0\n",
              "Amount                0\n",
              "ship-city             0\n",
              "ship-state            0\n",
              "customer_type         0\n",
              "date                  0\n",
              "month_name            0\n",
              "dtype: int64"
            ]
          },
          "metadata": {},
          "execution_count": 26
        }
      ]
    },
    {
      "cell_type": "markdown",
      "source": [
        "Data Visualization"
      ],
      "metadata": {
        "id": "yxSgycbINEOC"
      }
    },
    {
      "cell_type": "markdown",
      "source": [
        "Categorical Distributions"
      ],
      "metadata": {
        "id": "34VY8Vl_WGy-"
      }
    },
    {
      "cell_type": "code",
      "source": [
        "import numpy as np\n",
        "from google.colab import autoviz\n",
        "df_2486591620002136860 = autoviz.get_df('df_2486591620002136860')\n",
        "\n",
        "def categorical_histogram(df, colname, figsize=(2, 1.2), mpl_palette_name='Dark2'):\n",
        "  from matplotlib import pyplot as plt\n",
        "  import seaborn as sns\n",
        "  _, ax = plt.subplots(figsize=figsize)\n",
        "  bars = df[colname].value_counts()\n",
        "  plt.barh(bars.index, bars.values, color=sns.palettes.mpl_palette(mpl_palette_name))\n",
        "  plt.title(colname)\n",
        "  ax.spines[['top', 'right',]].set_visible(False)\n",
        "  return autoviz.MplChart.from_current_mpl_state()\n",
        "\n",
        "chart = categorical_histogram(df_2486591620002136860, *['Status'], **{})\n",
        "chart"
      ],
      "metadata": {
        "colab": {
          "base_uri": "https://localhost:8080/",
          "height": 179
        },
        "id": "OKLsnKZlVpxv",
        "outputId": "aa1b127c-47ae-415f-c058-164ec8e432e2"
      },
      "execution_count": null,
      "outputs": [
        {
          "output_type": "execute_result",
          "data": {
            "text/html": [
              "<img src=\"data:image/png;base64,iVBORw0KGgoAAAANSUhEUgAAAYEAAACeCAYAAADUrrbeAAAAOXRFWHRTb2Z0d2FyZQBNYXRwbG90\n",
              "bGliIHZlcnNpb24zLjcuMSwgaHR0cHM6Ly9tYXRwbG90bGliLm9yZy/bCgiHAAAACXBIWXMAAA9h\n",
              "AAAPYQGoP6dpAAAg1klEQVR4nO3deVQUZ/bw8W8LQgOtEDWKGhQEFXDDBRCNKCQMjsHEiDJGZgQV\n",
              "jRuKW6LOIWLC8hqXZNyNGkCj45aIOq6RiLtBUcEFNyLRiQuKAQJGQOjfHznUmw4REBRw+n7O6aNV\n",
              "9Ty3blX36Us9VV2l0mq1WoQQQuilOjWdgBBCiJojRUAIIfSYFAEhhNBjUgSEEEKPSREQQgg9JkVA\n",
              "CCH0mBQBIYTQY1IEhBBCj0kREEIIPSZFQAgh9JgUASFElZw/f55BgwbRsmVL1Go1zZs3x8vLi8WL\n",
              "FyttIiMjiYuLq/Q6Ll26RFhYGOnp6VVPWOhQyb2DhBCVdfz4cTw8PGjRogUBAQFYWlpy69YtTp48\n",
              "SVpaGtevXwdAo9EwaNAgYmJiKrWerVu3MnjwYA4ePEifPn2e3wYIDGs6ASHEyysiIgJzc3NOnTqF\n",
              "hYWFzrKMjIyaSUo8ExkOEkJUWlpaGu3atStVAAAaN24MgEqlIi8vj9jYWFQqFSqVisDAQAB+/PFH\n",
              "xo0bR9u2bTExMaFhw4YMHjxYZ9gnJiaGwYMHA+Dh4aHESEhIUOKHhYWVWr+1tbWyHoDCwkLmzJlD\n",
              "69atUavVNGzYkNdff51vv/32eeyKl5YcCQghKq1ly5acOHGCCxcu0L59+z9ts27dOoKCgnBxcWH0\n",
              "6NEA2NraAnDq1CmOHz/OkCFDeO2110hPT2f58uX06dOHS5cuYWpqiru7OxMnTmTRokXMmjULBwcH\n",
              "AOXfigoLCyMqKkrJJScnh9OnT3PmzBm8vLyqsBdeclohhKik/fv3aw0MDLQGBgZaNzc37QcffKDd\n",
              "t2+ftqCgQKedmZmZNiAgoFT/R48elZp34sQJLaBdu3atMm/Lli1aQHvw4MFS7QHt7NmzS81v2bKl\n",
              "zjo7deqkfeuttyq8bfpChoOEEJXm5eXFiRMnePvtt0lOTubTTz/F29ub5s2bs2PHjnL7m5iYKP8v\n",
              "LCwkMzMTOzs7LCwsOHPmzHPN1cLCgosXL3Lt2rXnGvdlJ0VACFElzs7OfPPNN/z8888kJiYyc+ZM\n",
              "fvnlFwYNGsSlS5fK7Pvrr7/y0UcfYWVlhbGxMY0aNeLVV18lKyuL7Ozs55rnxx9/TFZWFm3atKFD\n",
              "hw5Mnz6dlJSU57qOl5EUASHEc2FkZISzszORkZEsX76cwsJCtmzZUmaf4OBgIiIi8PPzY/Pmzezf\n",
              "v59vv/2Whg0bUlxcXKV8ioqKdKbd3d1JS0vjyy+/pH379qxevZouXbqwevXqKq3nZScnhoUQz123\n",
              "bt0AuHPnDvDbFTx/ZuvWrQQEBLBgwQJl3uPHj8nKytJp97T+AK+88kqp9gUFBcq6f69BgwYMHz6c\n",
              "4cOHk5ubi7u7O2FhYQQFBVVks/4nyZGAEKLSDh48iPZPfm+6e/duANq2bQuAmZlZqS9qAAMDg1L9\n",
              "Fy9eXOqveDMzM4A/jWFra8vhw4d15n3xxRelYmRmZupMazQa7OzsyM/P/5Mt0x9yJCCEqLTg4GAe\n",
              "PXrEu+++i729PQUFBRw/fpxNmzZhbW3N8OHDAejatSsHDhxg4cKFNGvWDBsbG1xdXfHx8WHdunWY\n",
              "m5vj6OjIiRMnOHDgAA0bNtRZj5OTEwYGBsydO5fs7GyMjY3x9PSkcePGBAUFMWbMGHx9ffHy8iI5\n",
              "OZl9+/bRqFEjnRiOjo706dOHrl270qBBA06fPs3WrVuZMGFCte2vWqmmL08SQry89uzZox0xYoTW\n",
              "3t5eq9FotEZGRlo7OzttcHCw9t69e0q7y5cva93d3bUmJiZaQLl08+eff9YOHz5c26hRI61Go9F6\n",
              "e3trL1++XOryTq1Wq121apW2VatWWgMDA53LRYuKirQffvihtlGjRlpTU1Ott7e39vr166VihIeH\n",
              "a11cXLQWFhZaExMTrb29vTYiIqLU5az6Ru4dJIQQekzOCQghhB6TIiCEEHpMioAQQugxKQJCCKHH\n",
              "pAgIIYQekyIghBB6TIqAENVEq9WSk5Pzp7+wFaKmSBEQopr88ssvmJub88svv9R0KkIopAgIIYQe\n",
              "kyIghBB6TIqAEELoMbmLqBDVLHTGXoyNTWs6jVrt0898ajoFvSFHAkIIocekCAghhB6TIiCEEHpM\n",
              "ioAQQugxKQJCCKHHpAgIIYQee+5FQKVSERcX99TlCQkJqFQqsrKynveqn1l6ejoqlYpz587VdCqK\n",
              "mJgYLCwslOmwsDCcnJxqLJ/yWFtb8/nnn9d0GkKISnqmInD//n3Gjh1LixYtMDY2xtLSEm9vb44d\n",
              "O1bhGD169ODOnTuYm5s/c7K1VVhYGCqVCpVKhaGhIY0aNcLd3Z3PP/+c/Pz8KsWeNm0a8fHxzynT\n",
              "6hcYGMiAAQOqHKekYJe8jIyMsLOzIzw8XG7IJkQVPNOPxXx9fSkoKCA2NpZWrVpx79494uPjyczM\n",
              "rHAMIyMjLC0tnznR2q5du3YcOHCA4uJiMjMzSUhIIDw8nHXr1pGQkEC9evUqFVej0aDRaJ5ztroK\n",
              "CgowMjJ6oet4Xg4cOEC7du3Iz8/n6NGjBAUF0bRpU0aOHFmjeRUWFlK3bt0azUGIyqjwkUBWVhZH\n",
              "jhxh7ty5eHh40LJlS1xcXJg5cyZvv/22TtsHDx7w7rvvYmpqSuvWrdmxY4ey7I/DQSXDH3FxcbRu\n",
              "3Rq1Wo23tze3bt1S+pQMiaxcuRIrKytMTU3x8/MjOztbZ72rV6/GwcEBtVqNvb09y5Yt01memJhI\n",
              "586dUavVdOvWjbNnz1Z4R5XH0NAQS0tLmjVrRocOHQgODubQoUNcuHCBuXPnKu3y8/OZNm0azZs3\n",
              "x8zMDFdXVxISEp4a9/fDQfv370etVpcaSps0aRKenp7K9NGjR+nVqxcmJiZYWVkxceJE8vLylOXW\n",
              "1tZ88sknDBs2jPr16zN69OgK9cvIyKB///6YmJhgY2PD+vXry9wnYWFhxMbGsn37duUv+JJtPX/+\n",
              "PJ6enpiYmNCwYUNGjx5Nbm5umfEAGjZsiKWlJS1btsTf35+ePXty5swZZXmfPn0ICQnR6TNgwAAC\n",
              "AwMB+Pjjj2nfvn2puE5OToSGhirTZX2WSo5KNm3aRO/evVGr1eXuCyFqqwoXgZK/SOPi4sod4pgz\n",
              "Zw5+fn6kpKTQr18//P39efjw4VPbP3r0iIiICNauXcuxY8fIyspiyJAhOm2uX7/O5s2b2blzJ3v3\n",
              "7uXs2bOMGzdOWb5+/Xo++ugjIiIiSE1NJTIyktDQUGJjYwHIzc3Fx8cHR0dHkpKSCAsLY9q0aRXd\n",
              "/Eqxt7fnr3/9K998840yb8KECZw4cYKNGzeSkpLC4MGD6du3L9euXSs33htvvIGFhQVff/21Mq+o\n",
              "qIhNmzbh7+8PQFpaGn379sXX15eUlBQ2bdrE0aNHmTBhgk6s+fPn06lTJ86ePUtoaGiF+gUGBnLr\n",
              "1i0OHjzI1q1bWbZsGRkZGU/Nd9q0afj5+dG3b1/u3LnDnTt36NGjB3l5eXh7e/PKK69w6tQptmzZ\n",
              "woEDB0rlWJ7Tp0+TlJSEq6trhfuMGDGC1NRUTp06pcw7e/YsKSkpDB8+HCj/s1RixowZTJo0idTU\n",
              "VLy9vUutKz8/n5ycHJ2XELVNhYuAoaEhMTExxMbGYmFhQc+ePZk1axYpKSml2gYGBvLee+9hZ2dH\n",
              "ZGQkubm5JCYmPjV2YWEhS5Yswc3Nja5duxIbG8vx48d1+jx+/Ji1a9fi5OSEu7s7ixcvZuPGjdy9\n",
              "exeA2bNns2DBAgYOHIiNjQ0DBw5k8uTJrFy5EoANGzZQXFzMmjVraNeuHT4+PkyfPr3CO6qy7O3t\n",
              "SU9PB+DmzZtER0ezZcsWevXqha2tLdOmTeP1118nOjq63FgGBgYMGTKEDRs2KPPi4+PJysrC19cX\n",
              "gKioKPz9/QkJCaF169b06NGDRYsWsXbtWh4/fqz08/T0ZOrUqdja2mJra1tuv6tXr7Jnzx5WrVpF\n",
              "9+7d6dq1K2vWrOHXX399ar4ajQYTExPl/JGlpSVGRkZs2LBBeT/bt2+Pp6cnS5YsYd26ddy7d6/M\n",
              "fdCjRw80Gg1GRkY4Ozvj5+fHsGHDyt13JV577TW8vb119nd0dDS9e/emVatWQPmfpRIhISFKm6ZN\n",
              "m5ZaV1RUFObm5srLysqqwnkKUV2e6cSwr68vt2/fZseOHfTt25eEhAS6dOlCTEyMTruOHTsq/zcz\n",
              "M6N+/fpl/sVoaGiIs7OzMm1vb4+FhQWpqanKvBYtWtC8eXNl2s3NjeLiYq5cuUJeXh5paWmMHDlS\n",
              "OWLRaDSEh4eTlpYGQGpqKh07dkStVuvEKEtkZKROvJs3b5a9g/6EVqtFpVIBvw2BFBUV0aZNG524\n",
              "hw4dUvIsj7+/PwkJCdy+fRv47a/Wt956S7miKDk5mZiYGJ343t7eFBcXc+PGDSVOt27ddOKW1y81\n",
              "NRVDQ0O6du2q9Cl5n55VamoqnTp1wszMTJnXs2dP5f0sy6ZNmzh37hzJycls3ryZ7du3M2PGjGda\n",
              "/6hRo/j3v//N48ePKSgoYMOGDYwYMQKgQp+lEn/ch380c+ZMsrOzldfvhziFqC2e+S6iarUaLy8v\n",
              "vLy8CA0NJSgoiNmzZytjrkCpE2QqlYri4uIqJ/s0JWPJq1atKjU0YGBgUOm4Y8aMwc/PT5lu1qzZ\n",
              "M8dITU3FxsZGydPAwICkpKRSeVX05K+zszO2trZs3LiRsWPHsm3bNp0inJuby/vvv8/EiRNL9W3R\n",
              "ooXy/99/AVek39WrVyuU34tmZWWFnZ0dAA4ODqSlpREaGkpYWBhqtZo6deqUulqosLBQZ7p///4Y\n",
              "Gxuzbds2jIyMKCwsZNCgQcCzfZb+uA//yNjYGGNj42ffSCGqUZVvJe3o6Fjm7wIq4smTJ5w+fRoX\n",
              "FxcArly5QlZWFg4ODkqbmzdvcvv2beWL+OTJk9SpU4e2bdvSpEkTmjVrxg8//KCMjf+Rg4MD69at\n",
              "4/Hjx8rRwMmTJ8vMq0GDBjRo0KDS23X58mX27t3LzJkzAejcuTNFRUVkZGTQq1evSsf19/dn/fr1\n",
              "vPbaa9SpU4e33npLWdalSxcuXbqkfFFWVHn97O3tefLkCUlJScpRW8n7VBYjIyOKiop05jk4OBAT\n",
              "E0NeXp7yRXrs2DHl/XwWBgYGPHnyhIKCAtRqNa+++ip37txRlhcVFXHhwgU8PDyUeYaGhgQEBBAd\n",
              "HY2RkRFDhgzBxMQEoEKfJSH+l1R4OCgzMxNPT0+++uorUlJSuHHjBlu2bOHTTz/lnXfeqVISdevW\n",
              "JTg4mO+//56kpCQCAwPp3r27UhTgtyOQgIAAkpOTOXLkCBMnTsTPz0+53HTOnDlERUWxaNEirl69\n",
              "yvnz54mOjmbhwoUADB06FJVKxahRo7h06RK7d+9m/vz5Vcr79548ecLdu3e5ffs258+fZ/HixfTu\n",
              "3RsnJyfl3EObNm3w9/dn2LBhfPPNN9y4cYPExESioqLYtWtXhdfl7+/PmTNniIiIYNCgQTp/bX74\n",
              "4YccP36cCRMmcO7cOa5du8b27dvLPelaXr+2bdvSt29f3n//feV9CgoKUr48n8ba2pqUlBSuXLnC\n",
              "gwcPKCwsxN/fX3k/L1y4wMGDBwkODuYf//gHTZo0KTNeZmYmd+/e5b///S979uzhX//6Fx4eHtSv\n",
              "Xx/47VzHrl272LVrF5cvX2bs2LF/WqiCgoL47rvv2Lt3rzIUVKK8z5IQ/0sqfCSg0WhwdXXls88+\n",
              "Iy0tjcLCQqysrBg1ahSzZs2qUhKmpqZ8+OGHDB06lJ9++olevXqxZs0anTZ2dnYMHDiQfv368fDh\n",
              "Q3x8fHQu2wsKCsLU1JR58+Yxffp0zMzM6NChg3K5oEajYefOnYwZM4bOnTvj6OjI3LlzlROqVXXx\n",
              "4kWaNm2KgYEB5ubmODo6MnPmTMaOHavzJR0dHU14eDhTp07lp59+olGjRnTv3h0fn4o/RMPOzg4X\n",
              "FxcSExNL/Vq3Y8eOHDp0iH/+85/06tULrVaLra0tf/vb38qMWZF+0dHRBAUF0bt3b5o0aUJ4eLjO\n",
              "ZZV/ZtSoUSQkJNCtWzdyc3M5ePAgffr0Yd++fUyaNAlnZ2dMTU3x9fWt0Jfsm2++Cfx2BNC0aVP6\n",
              "9etHRESEsnzEiBEkJyczbNgwDA0NmTx5ss5RQImSk98PHz4sNexT3mdJiP8lKm0N/9wyJiaGkJCQ\n",
              "MocVwsLCiIuLq1W3dxAvN61WS+vWrRk3bhxTpkyplnXm5ORgbm7OxLGb5Mli5ZAni1Ufebyk0Dv3\n",
              "799XLi8u+W2AEPpKioDQO40bN6ZRo0Z88cUXvPLKKzWdjhA1qsaHg4TQFzIcVHEyHFR95HkCQgih\n",
              "x6QICCGEHpPhICGqSclwUHZ2tvK7BiFqmhwJCCGEHpMiIIQQekyKgBBC6DEpAkIIocekCAghhB6T\n",
              "XwwLUc2uj7FAY6Sq6TTE/4A2MUXlNyqHHAkIIYQekyIghBB6TIqAEELoMSkCQgihx6QICCGEHpMi\n",
              "IIQQekyKgKhVVCoVcXFxT12ekJCASqUq83Gk1SU9PR2VSiWPPRUvNSkColrdv3+fsWPH0qJFC4yN\n",
              "jbG0tMTb25tjx45VqH+PHj24c+cO5ubmLzhTIfSD/FhMVCtfX18KCgqIjY2lVatW3Lt3j/j4eDIz\n",
              "MyvU38jICEtLyxecpRD6Q44ERLXJysriyJEjzJ07Fw8PD1q2bImLiwszZ87k7bffVto9ePCAd999\n",
              "F1NTU1q3bs2OHTuUZX8cDoqJicHCwoK4uDhat26NWq3G29ubW7duKX3CwsJwcnJi5cqVWFlZYWpq\n",
              "ip+fH9nZ2Tr5rV69GgcHB9RqNfb29ixbtkxneWJiIp07d0atVtOtWzfOnj37AvaSENVLioCoNhqN\n",
              "Bo1GQ1xcHPn5+U9tN2fOHPz8/EhJSaFfv374+/vz8OHDp7Z/9OgRERERrF27lmPHjpGVlcWQIUN0\n",
              "2ly/fp3Nmzezc+dO9u7dy9mzZxk3bpyyfP369Xz00UdERESQmppKZGQkoaGhxMbGApCbm4uPjw+O\n",
              "jo4kJSURFhbGtGnTytze/Px8cnJydF5C1DZSBES1MTQ0JCYmhtjYWCwsLOjZsyezZs0iJSVFp11g\n",
              "YCDvvfcednZ2REZGkpubS2Ji4lPjFhYWsmTJEtzc3OjatSuxsbEcP35cp8/jx49Zu3YtTk5OuLu7\n",
              "s3jxYjZu3Mjdu3cBmD17NgsWLGDgwIHY2NgwcOBAJk+ezMqVKwHYsGEDxcXFrFmzhnbt2uHj48P0\n",
              "6dPL3N6oqCjMzc2Vl5WVVWV3nRAvjBQBUa18fX25ffs2O3bsoG/fviQkJNClSxdiYmKUNh07dlT+\n",
              "b2ZmRv369cnIyHhqTENDQ5ydnZVpe3t7LCwsSE1NVea1aNGC5s2bK9Nubm4UFxdz5coV8vLySEtL\n",
              "Y+TIkcrRikajITw8nLS0NABSU1Pp2LEjarVaJ0ZZZs6cSXZ2tvL6/RCVELWFnBgW1U6tVuPl5YWX\n",
              "lxehoaEEBQUxe/ZsAgMDAahbt65Oe5VKRXFx8QvLJzc3F4BVq1bh6uqqs8zAwKDScY2NjTE2Nq5S\n",
              "bkK8aHIkIGqco6MjeXl5le7/5MkTTp8+rUxfuXKFrKwsHBwclHk3b97k9u3byvTJkyepU6cObdu2\n",
              "pUmTJjRr1owffvgBOzs7nZeNjQ0ADg4OpKSk8PjxY50YQrzspAiIapOZmYmnpydfffUVKSkp3Lhx\n",
              "gy1btvDpp5/yzjvvVDpu3bp1CQ4O5vvvvycpKYnAwEC6d++Oi4uL0katVhMQEEBycjJHjhxh4sSJ\n",
              "+Pn5KZebzpkzh6ioKBYtWsTVq1c5f/480dHRLFy4EIChQ4eiUqkYNWoUly5dYvfu3cyfP79qO0SI\n",
              "WkCGg0S10Wg0uLq68tlnn5GWlkZhYSFWVlaMGjWKWbNmVTquqakpH374IUOHDuWnn36iV69erFmz\n",
              "RqeNnZ0dAwcOpF+/fjx8+BAfHx+dS0CDgoIwNTVl3rx5TJ8+HTMzMzp06EBISIiS+86dOxkzZgyd\n",
              "O3fG0dGRuXPn4uvrW+m8hagNVFqtVlvTSQhRWTExMYSEhJR5G4mwsDDi4uJq/PYOOTk5mJubk/Se\n",
              "Sp4sJp4LebKYEEKIKpEiIIQQekyGg4SoJjIcJJ43GQ4SQghRJVIEhBBCj8lwkBDVpGQ4KDs7m/r1\n",
              "69d0OkIAciQghBB6TYqAEELoMSkCQgihx6QICCGEHpMiIIQQekxuICdENbP/ajZ1TOQ5A6Lq/jv8\n",
              "/1U5hhwJCCGEHpMiIIQQekyKgBBC6DEpAkIIocekCAghhB6TIiCEEHpMioDQC2FhYTg5OSnTgYGB\n",
              "DBgwoEoxExISUKlUZT7aUojaToqAqLK7d+8SHBxMq1atMDY2xsrKiv79+xMfH1/TqQkhyiE/FhNV\n",
              "kp6eTs+ePbGwsGDevHl06NCBwsJC9u3bx/jx47l8+XJNpyiEKIMcCYgqGTduHCqVisTERHx9fWnT\n",
              "pg3t2rVjypQpnDx5EoCFCxfSoUMHzMzMsLKyYty4ceTm5ioxYmJisLCwYN++fTg4OKDRaOjbty93\n",
              "7tzRWdeXX35Ju3btMDY2pmnTpkyYMEFZlpWVRVBQEK+++ir169fH09OT5OTkCm9HcXExUVFR2NjY\n",
              "YGJiQqdOndi6datOm927d9OmTRtMTEzw8PAgPT29EntMiNpFioCotIcPH7J3717Gjx+PmZlZqeUW\n",
              "FhYA1KlTh0WLFnHx4kViY2P57rvv+OCDD3TaPnr0iPnz57Nu3ToOHz7MzZs3mTZtmrJ8+fLljB8/\n",
              "ntGjR3P+/Hl27NiBnZ2dsnzw4MFkZGSwZ88ekpKS6NKlC2+88QYPHz6s0LZERUWxdu1aVqxYwcWL\n",
              "F5k8eTJ///vfOXToEAC3bt1i4MCB9O/fn3PnzhEUFMSMGTPKjJmfn09OTo7OS4jaRoaDRKVdv34d\n",
              "rVaLvb19me1CQkKU/1tbWxMeHs6YMWNYtmyZMr+wsJAVK1Zga2sLwIQJE/j444+V5eHh4UydOpVJ\n",
              "kyYp85ydnQE4evQoiYmJZGRkYGz82z155s+fT1xcHFu3bmX06NFl5pefn09kZCQHDhzAzc0NgFat\n",
              "WnH06FFWrlxJ7969Wb58Oba2tixYsACAtm3bcv78eebOnfvUuFFRUcyZM6fMdQtR06QIiEqr6JNJ\n",
              "Dxw4QFRUFJcvXyYnJ4cnT57w+PFjHj16hKmpKQCmpqZKAQBo2rQpGRkZAGRkZHD79m3eeOONP42f\n",
              "nJxMbm4uDRs21Jn/66+/kpaWVm5+169f59GjR3h5eenMLygooHPnzgCkpqbi6uqqs7ykYDzNzJkz\n",
              "mTJlijKdk5ODlZVVufkIUZ2kCIhKa926NSqVqsyTv+np6fj4+DB27FgiIiJo0KABR48eZeTIkRQU\n",
              "FChFoG7dujr9VCqVUmRMTEzKzCM3N5emTZuSkJBQalnJkFR5/QF27dpF8+bNdZaVHFlUhrGxcZX6\n",
              "C1EdpAiISmvQoAHe3t4sXbqUiRMnljovkJWVRVJSEsXFxSxYsIA6dX47BbV58+ZnWk+9evWwtrYm\n",
              "Pj4eDw+PUsu7dOnC3bt3MTQ0xNra+pm3w9HREWNjY27evEnv3r3/tI2DgwM7duzQmVdy4luIl5mc\n",
              "GBZVsnTpUoqKinBxceHrr7/m2rVrpKamsmjRItzc3LCzs6OwsJDFixfzww8/sG7dOlasWPHM6wkL\n",
              "C2PBggUsWrSIa9eucebMGRYvXgzAm2++iZubGwMGDGD//v2kp6dz/Phx/vnPf3L69OlyY9erV49p\n",
              "06YxefJkYmNjSUtLU+LHxsYCMGbMGK5du8b06dO5cuUKGzZsICYm5pm3Q4jaRoqAqJJWrVpx5swZ\n",
              "PDw8mDp1Ku3bt8fLy4v4+HiWL19Op06dWLhwIXPnzqV9+/asX7+eqKioZ15PQEAAn3/+OcuWLaNd\n",
              "u3b4+Phw7do14Leho927d+Pu7s7w4cNp06YNQ4YM4ccff6RJkyYViv/JJ58QGhpKVFQUDg4O9O3b\n",
              "l127dmFjYwNAixYt+Prrr4mLi6NTp06sWLGCyMjIZ94OIWoblbaiZ/eEEFWSk5ODubk5TZeGyJPF\n",
              "xHMhTxYTQghRJVIEhBBCj0kREEIIPSZFQAgh9JgUASGE0GNydZAQ1aTk6qDs7Gzq169f0+kIAciR\n",
              "gBBC6DUpAkIIocfk3kFCVJOSkVd5roCoLvXq1UOlUpXZRoqAENUkMzMTQG4nLapNRc4/SREQopo0\n",
              "aNAAgJs3b2Jubl7D2dReJc9duHXrlpxAL0NF9lO9evXKjSNFQIhqUnIrbXNzc/lyq4D69evLfqqA\n",
              "qu4nOTEshBB6TIqAEELoMSkCQlQTY2NjZs+eLY+cLIfsp4p5XvtJfjEshBB6TI4EhBBCj0kREEII\n",
              "PSZFQAgh9JgUASGE0GNSBISoJkuXLsXa2hq1Wo2rqyuJiYk1nVKtcvjwYfr370+zZs1QqVTExcXV\n",
              "dEq1TlRUFM7OztSrV4/GjRszYMAArly5UqWYUgSEqAabNm1iypQpzJ49mzNnztCpUye8vb3JyMio\n",
              "6dRqjby8PDp16sTSpUtrOpVa69ChQ4wfP56TJ0/y7bffUlhYyF/+8hfy8vIqHVMuERWiGri6uuLs\n",
              "7MySJUsAKC4uxsrKiuDgYGbMmFHD2dU+KpWKbdu2MWDAgJpOpVa7f/8+jRs35tChQ7i7u1cqhhwJ\n",
              "CPGCFRQUkJSUxJtvvqnMq1OnDm+++SYnTpyowczEyy47Oxv4/zcnrAwpAkK8YA8ePKCoqIgmTZro\n",
              "zG/SpAl3796toazEy664uJiQkBB69uxJ+/btKx1H7iIqhBAvofHjx3PhwgWOHj1apThSBIR4wRo1\n",
              "aoSBgQH37t3TmX/v3j0sLS1rKCvxMpswYQL/+c9/OHz4MK+99lqVYslwkBAvmJGREV27diU+Pl6Z\n",
              "V1xcTHx8PG5ubjWYmXjZaLVaJkyYwLZt2/juu++wsbGpckw5EhCiGkyZMoWAgAC6deuGi4sLn3/+\n",
              "OXl5eQwfPrymU6s1cnNzuX79ujJ948YNzp07R4MGDWjRokUNZlZ7jB8/ng0bNrB9+3bq1aunnFMy\n",
              "NzfHxMSkUjHlElEhqsmSJUuYN28ed+/excnJiUWLFuHq6lrTadUaCQkJeHh4lJofEBBATExM9SdU\n",
              "Cz3tofHR0dEEBgZWLqYUASGE0F9yTkAIIfSYFAEhhNBjUgSEEEKPSREQQgg9JkVACCH0mBQBIYTQ\n",
              "Y1IEhBBCj0kREEIIPSZFQAgh9JgUASGE0GNSBIQQQo9JERBCCD32f7CEyVB5DImMAAAAAElFTkSu\n",
              "QmCC\n",
              "\">\n",
              "        <script></script>"
            ],
            "text/plain": [
              "<google.colab._quickchart_lib.MplChart at 0x7b11820c5150>"
            ]
          },
          "metadata": {},
          "execution_count": 36
        }
      ]
    },
    {
      "cell_type": "code",
      "source": [
        "import numpy as np\n",
        "from google.colab import autoviz\n",
        "df_2859643879819950609 = autoviz.get_df('df_2859643879819950609')\n",
        "\n",
        "def categorical_histogram(df, colname, figsize=(2, 1.2), mpl_palette_name='Dark2'):\n",
        "  from matplotlib import pyplot as plt\n",
        "  import seaborn as sns\n",
        "  _, ax = plt.subplots(figsize=figsize)\n",
        "  bars = df[colname].value_counts()\n",
        "  plt.barh(bars.index, bars.values, color=sns.palettes.mpl_palette(mpl_palette_name))\n",
        "  plt.title(colname)\n",
        "  ax.spines[['top', 'right',]].set_visible(False)\n",
        "  return autoviz.MplChart.from_current_mpl_state()\n",
        "\n",
        "chart = categorical_histogram(df_2859643879819950609, *['Fulfilment'], **{})\n",
        "chart"
      ],
      "metadata": {
        "colab": {
          "base_uri": "https://localhost:8080/",
          "height": 179
        },
        "id": "8HkUxaLcV8ql",
        "outputId": "403ea61f-2ffb-4b36-9148-f7663916cea5"
      },
      "execution_count": null,
      "outputs": [
        {
          "output_type": "execute_result",
          "data": {
            "text/html": [
              "<img src=\"data:image/png;base64,iVBORw0KGgoAAAANSUhEUgAAAPkAAACeCAYAAADwvqxyAAAAOXRFWHRTb2Z0d2FyZQBNYXRwbG90\n",
              "bGliIHZlcnNpb24zLjcuMSwgaHR0cHM6Ly9tYXRwbG90bGliLm9yZy/bCgiHAAAACXBIWXMAAA9h\n",
              "AAAPYQGoP6dpAAASRUlEQVR4nO3df1BU1f/H8ecFYfkhLKhoaCCGKRlpCeoYmr8warAynaEoS1RK\n",
              "G9SQUYOsQJuUUBsqmEojUIs0Lful+YsCSy1/NJYVUUoMftJETUGgQNj7/cPhfttAE1xcObwfM3dm\n",
              "77n3nvte8OW5e9k9q+m6riOEUJaDvQsQQrQuCbkQipOQC6E4CbkQipOQC6E4CbkQipOQC6E4CbkQ\n",
              "ipOQC6E4Cblotvz8fDRNIz8/36p9zZo1BAUF4eTkhJeXFwAjR45k5MiRxj4lJSVomkZOTs5Vq7e9\n",
              "k5C3Izk5OWia1uSSmJh4RX3//PPPxMTEEBgYyMqVK1mxYoWNqraPzZs3k5KSYu8ybKKDvQsQV9+i\n",
              "RYvo1auXVVtwcPAV9Zmfn4/FYuHll1+md+/eRvu2bduuqF972bx5M5mZmUoEXULeDt19992Ehoba\n",
              "tM+ysjIA4zK9gbOzs03PI5pPLteFQdO0JkeugIAAYmJiLnpcQEAAycnJAPj4+Fj18+/X5E2JiYmh\n",
              "Y8eOlJaWMm7cODp27EiPHj3IzMwE4NChQ4wePRp3d3d69uxJbm5uoz7Onj1LfHw8fn5+mEwmevfu\n",
              "zYsvvojFYjH2abgfsGzZMlasWEFgYCAmk4lBgwaxb98+q3oazv3PlzRtlYzk7VB5eTmnTp2yauvS\n",
              "pUuL+0tPT2f16tVs3LiR1157jY4dO9K/f/9m9VFfX8/dd9/NHXfcQVpaGu+88w4zZ87E3d2dBQsW\n",
              "8PDDDzNhwgRef/11Hn30UYYOHWq85KiurmbEiBH8/vvvTJ8+HX9/f3bv3k1SUhLHjx8nPT3d6ly5\n",
              "ubmcO3eO6dOno2kaaWlpTJgwgeLiYpycnJg+fTrHjh1j+/btrFmzpsU/l2uGLtqN7OxsHWhy0XVd\n",
              "B/Tk5ORGx/Xs2VOfPHmysf7FF1/ogP7FF18YbcnJyTqgnzx50urYESNG6CNGjDDWf/vtNx3Qs7Oz\n",
              "jbbJkyfrgL548WKj7cyZM7qrq6uuaZq+du1ao/3nn39uVOfzzz+vu7u767/88ovVuRMTE3VHR0e9\n",
              "tLTU6tydO3fW//zzT2O/jz76SAf0Tz75xGiLi4vTVYmHjOTtUGZmJn369LF3GY3ExsYaj728vOjb\n",
              "ty+HDx8mKirKaO/bty9eXl4UFxcbbevXr2f48OF4e3tbXaGEh4eTmprKzp07efjhh432Bx54AG9v\n",
              "b2N9+PDhAFZ9qkRC3g4NHjzY5jferpSLiws+Pj5WbWazmeuvv77R62Gz2cyZM2eM9V9//ZXvv/++\n",
              "0fENGm4KNvD397dabwj8P/tUiYRc/Kf6+vpWP4ejo2Oz2vV/zFpmsVgYO3Ys8+fPb3Lff1+1XE6f\n",
              "KpGQC4O3tzdnz561aqutreX48eP2KegyBQYGUllZSXh4uM36bMt30/9N/oQmDIGBgezcudOqbcWK\n",
              "FVdlJL8SUVFR7Nmzh61btzbadvbsWerq6prdp7u7u3F8WycjuTDExsYyY8YMJk6cyNixY/nuu+/Y\n",
              "unXrFf157WqYN28eH3/8MePGjSMmJoaQkBCqqqo4dOgQGzZsoKSkpNnPISQkBIDZs2cTERGBo6Mj\n",
              "Dz74YGuU3+ok5MLw2GOP8dtvv5GVlcWWLVsYPnw427dvZ8yYMfYu7ZLc3NwoKChg8eLFrF+/ntWr\n",
              "V+Pp6UmfPn1YuHAhZrO52X1OmDCBWbNmsXbtWt5++210XW+zIdd0Ve82CCEAeU0uhPIk5EIoTkIu\n",
              "hOIk5EIoTkIuhOIk5EIoTkJuY7quU1FRoez7oEXbIyG3sXPnzmE2mzl37py9SxECkJALoTwJuRCK\n",
              "k5ALoTj5gEorOTzDi47O6nwmuS3qk3Ntf0T2apGRXAjFSciFUJyEXAjFSciFUJyEXAjFSciFUJyE\n",
              "XAjFSciFUJyEXAjFSciFUJyEXAjFSciFUJyEXAjFSciFUFyrhXzPnj04OjoSGRnZWqcQQlyGVgt5\n",
              "VlYWs2bNYufOnRw7dqy1TiOE+A+tEvLKykrWrVvHE088QWRkJDk5Oca2/Px8NE1j69at3Hbbbbi6\n",
              "ujJ69GjKysr47LPPuOmmm/D09OShhx6iurraOG7Lli0MGzYMLy8vOnfuzLhx4zhy5IixPSUlBU3T\n",
              "Gi0N566pqWH27Nl07doVFxcXhg0bxr59+xrVlZeXR2hoKG5ubtx+++0UFRW1xo9IiKumVUL+3nvv\n",
              "ERQURN++fZk0aRJvvfVWoymKU1JSyMjIYPfu3Rw9epSoqCjS09PJzc1l06ZNbNu2jVdffdXYv6qq\n",
              "ioSEBPbv309eXh4ODg7cf//9WCwWAObOncvx48eNZdmyZbi5uREaGgrA/Pnzef/991m1ahXffvst\n",
              "vXv3JiIigj///NOqrgULFrB8+XL2799Phw4dmDp16iWfa01NDRUVFVaLENeSVvnq4rCwMKKionjy\n",
              "ySepq6vD19eX9evXM3LkSPLz8xk1ahQ7duwwvvc6NTWVpKQkjhw5wg033ADAjBkzKCkpYcuWLU2e\n",
              "49SpU/j4+HDo0CGCg4Ottn399deMGjWKVatWERUVRVVVFd7e3uTk5PDQQw8BcP78eQICAoiPj2fe\n",
              "vHlN1rV582YiIyP566+/cHFxabKOlJQUFi5c2Kj9QLQm0z/ZmUz/dIHNR/KioiL27t1LdHQ0AB06\n",
              "dOCBBx4gKyvLar/+/fsbj7t164abm5sR8Ia2srIyY/3XX38lOjqaG264AU9PTwICAgAoLS216re0\n",
              "tJTx48czd+5coqKiADhy5Ajnz58nLCzM2M/JyYnBgwdTWFh40bp8fX0BrOr4t6SkJMrLy43l6NGj\n",
              "F//hCGEHNp/IMSsri7q6Orp372606bqOyWQiIyPDaHNycjIea5pmtd7Q1nApDnDPPffQs2dPVq5c\n",
              "Sffu3bFYLAQHB1NbW2vsU1VVxb333svQoUNZtGhRi+r/d12AVR3/ZjKZMJlMLTqXEFeDTUfyuro6\n",
              "Vq9ezfLlyzl48KCxfPfdd3Tv3p133323Rf2ePn2aoqIinnnmGcaMGcNNN93EmTNnrPbRdZ1JkyZh\n",
              "sVhYs2aNEVCAwMBAnJ2d2bVrl9F2/vx59u3bR79+/Vr2ZIVoI2w6kn/66aecOXOGadOmYTabrbZN\n",
              "nDiRrKwsli5d2ux+vb296dy5MytWrMDX15fS0lISExOt9klJSWHHjh1s27aNyspKKisrATCbzbi7\n",
              "u/PEE08wb948OnXqhL+/P2lpaVRXVzNt2rSWP2Eh2gCbjuRZWVmEh4c3CjhcCPn+/fv5/vvvm92v\n",
              "g4MDa9eu5cCBAwQHBzNnzpxG/1kUFBRQWVnJ7bffjq+vr7GsW7cOuHBzb+LEiTzyyCMMHDiQw4cP\n",
              "s3XrVry9vVv2ZIVoI1rl7np7VlFRgdlslrvr1wC5u36BvHddCMVJyIVQnIRcCMVJyIVQnIRcCMVJ\n",
              "yIVQnIRcCMVJyIVQnIRcCMVJyIVQnIRcCMXJe9dtrOG96+Xl5Xh6etq7HCFkJBdCdRJyIRQnIRdC\n",
              "cRJyIRQnIRdCcRJyIRQnIRdCcRJyIRQnIRdCcTb/BhVxQdDbyTi4yjeriCv3vympV3S8jORCKE5C\n",
              "LoTiJORCKE5CLoTiJORCKE5CLoTiJORCKE5CLoTiJORCKE5CLoTiJORCKE5CLoTi2lTIS0pK0DSN\n",
              "gwcP2rsUIdqMZoU8JiYGTdOYMWNGo21xcXFomkZMTIytarMrTdP48MMP7V2GEFes2SO5n58fa9eu\n",
              "5a+//jLa/v77b3Jzc/H3929xIbquU1dX1+LjhRBNa3bIBw4ciJ+fHx988IHR9sEHH+Dv789tt91m\n",
              "tFksFpYsWUKvXr1wdXVlwIABbNiwwdien5+Ppml89tlnhISEYDKZ+Oqrr7BYLKSlpdG7d29MJhP+\n",
              "/v688MILVjUUFxczatQo3NzcGDBgAHv27DG2nT59mujoaHr06IGbmxu33HIL7777rtXxI0eOZPbs\n",
              "2cyfP59OnTpx3XXXkZKSYmwPCAgA4P7770fTNGNdiLaoRa/Jp06dSnZ2trH+1ltvMWXKFKt9lixZ\n",
              "wurVq3n99df58ccfmTNnDpMmTaKgoMBqv8TERFJTUyksLKR///4kJSWRmprKs88+y08//URubi7d\n",
              "unWzOmbBggXMnTuXgwcP0qdPH6Kjo42rgL///puQkBA2bdrEDz/8wOOPP84jjzzC3r17rfpYtWoV\n",
              "7u7ufPPNN6SlpbFo0SK2b98OwL59+wDIzs7m+PHjxnpTampqqKiosFqEuJY067vQYmJiOHv2LCtX\n",
              "rsTPz4+ioiIAgoKCOHr0KLGxsXh5efHGG2/QqVMnduzYwdChQ43jY2Njqa6uJjc3l/z8fEaNGsWH\n",
              "H37IfffdB8C5c+fw8fEhIyOD2NjYRucvKSmhV69evPnmm0ybNg2An376iZtvvpnCwkKCgoKarHvc\n",
              "uHEEBQWxbNky4MJIXl9fz5dffmnsM3jwYEaPHk1q6oVZODRNY+PGjYwfP/6SP5OUlBQWLlzYqN03\n",
              "M15mhhE2caUzw7Ro+icfHx8iIyPJyclB13UiIyPp0qWLsf3w4cNUV1czduxYq+Nqa2utLukBQkND\n",
              "jceFhYXU1NQwZsyYS56/f//+xmNfX18AysrKCAoKor6+nsWLF/Pee+/x+++/U1tbS01NDW5ubhft\n",
              "o6GfsrKyy3j21pKSkkhISDDWKyoq8PPza3Y/QrSWFs/xNnXqVGbOnAlAZmam1bbKykoANm3aRI8e\n",
              "Pay2mUzWo5u7u7vx2NXV9bLO7eTkZDzWNA24cA8AYOnSpbz88sukp6dzyy234O7uTnx8PLW1tRft\n",
              "o6Gfhj6aw2QyNXpOQlxLWhzyu+66i9raWjRNIyIiwmpbv379MJlMlJaWMmLEiMvu88Ybb8TV1ZW8\n",
              "vLwmL9cvx65du7jvvvuYNGkScCH8v/zyC/369WtWP05OTtTX17eoBiGuJS0OuaOjI4WFhcbjf/Lw\n",
              "8GDu3LnMmTMHi8XCsGHDKC8vZ9euXXh6ejJ58uQm+3RxceGpp55i/vz5ODs7ExYWxsmTJ/nxxx+N\n",
              "1+D/5cYbb2TDhg3s3r0bb29vXnrpJU6cONHskAcEBJCXl0dYWBgmkwlvb+9mHS/EteKKpmT29PS8\n",
              "6Lbnn38eHx8flixZQnFxMV5eXgwcOJCnn376kn0+++yzdOjQgeeee45jx47h6+vb5JtvLuaZZ56h\n",
              "uLiYiIgI3NzcePzxxxk/fjzl5eWX3QfA8uXLSUhIYOXKlfTo0YOSkpJmHS/EtaJZd9fFf6uoqMBs\n",
              "NsvddWEzMu+6EOKSJORCKE5CLoTiJORCKE5CLoTiJORCKE5CLoTiJORCKE5CLoTiJORCKE5CLoTi\n",
              "JORCKE4+oGJjDR9QKS8vv+Sn9IS4WmQkF0JxEnIhFHdFk0aIxhpe/cjUzOJq8fDwMOY6bIqE3MZO\n",
              "nz4NIDO2iqvmv+7/SMhtrFOnTgCUlpZiNpvtXE371TA19tGjR5W/Aerh4XHJ7RJyG3NwuHCbw2w2\n",
              "K/+Pqy3w9PRs978HufEmhOIk5EIoTkJuYyaTieTkZPlWFTuT38P/k3e8CaE4GcmFUJyEXAjFSciF\n",
              "UJyEXAjFSchtKDMzk4CAAFxcXBgyZAh79+61d0ntzpIlSxg0aBAeHh507dqV8ePHU1RUZO+y7EpC\n",
              "biPr1q0jISGB5ORkvv32WwYMGEBERARlZWX2Lq1dKSgoIC4ujq+//prt27dz/vx57rzzTqqqquxd\n",
              "mt3In9BsZMiQIQwaNIiMjAwALBYLfn5+zJo1i8TERDtX136dPHmSrl27UlBQwB133GHvcuxCRnIb\n",
              "qK2t5cCBA4SHhxttDg4OhIeHs2fPHjtWJhq+l77hg0PtkYTcBk6dOkV9fT3dunWzau/WrRt//PGH\n",
              "naoSFouF+Ph4wsLCCA4Otnc5diOfQhPKiouL44cffuCrr76ydyl2JSG3gS5duuDo6MiJEyes2k+c\n",
              "OMF1111np6rat5kzZ/Lpp5+yc+dOrr/+enuXY1dyuW4Dzs7OhISEkJeXZ7RZLBby8vIYOnSoHStr\n",
              "f3RdZ+bMmWzcuJHPP/+cXr162bsku5OR3EYSEhKYPHkyoaGhDB48mPT0dKqqqpgyZYq9S2tX4uLi\n",
              "yM3N5aOPPsLDw8O4J2I2m3F1dbVzdfYhf0KzoYyMDJYuXcoff/zBrbfeyiuvvMKQIUPsXVa7crEJ\n",
              "DbOzs4mJibm6xVwjJORCKE5ekwuhOAm5EIqTkAuhOAm5EIqTkAuhOAm5EIqTkAuhOAm5EIqTkAuh\n",
              "OAm5EIqTkAuhOAm5EIr7P1E3BLI8YCKnAAAAAElFTkSuQmCC\n",
              "\">\n",
              "        <script></script>"
            ],
            "text/plain": [
              "<google.colab._quickchart_lib.MplChart at 0x7b1182173ac0>"
            ]
          },
          "metadata": {},
          "execution_count": 37
        }
      ]
    },
    {
      "cell_type": "code",
      "source": [
        "plt.scatter(dt['Qty'], dt['Amount'])\n",
        "plt.xlabel('Qty')\n",
        "plt.ylabel('Amount')\n",
        "plt.title('Scatter Plot of Amount vs. Qty')\n",
        "plt.show()"
      ],
      "metadata": {
        "colab": {
          "base_uri": "https://localhost:8080/",
          "height": 472
        },
        "id": "Nz_IGChDWqG4",
        "outputId": "708cd43e-3237-4671-98cf-97b816adf1ee"
      },
      "execution_count": null,
      "outputs": [
        {
          "output_type": "display_data",
          "data": {
            "text/plain": [
              "<Figure size 640x480 with 1 Axes>"
            ],
            "image/png": "[encoded data removed]"
          },
          "metadata": {}
        }
      ]
    },
    {
      "cell_type": "code",
      "source": [
        "plt.plot(dt['month_name'], dt['Amount'])\n",
        "plt.xlabel('month')\n",
        "plt.ylabel('Amount')\n",
        "plt.title('Time Series of Amount')\n",
        "plt.xticks(rotation=45)  # Rotate the x-labels for readability\n",
        "plt.show()"
      ],
      "metadata": {
        "colab": {
          "base_uri": "https://localhost:8080/",
          "height": 498
        },
        "id": "VmUATS4iXdP4",
        "outputId": "d582a584-96a4-485b-f197-5864491f8748"
      },
      "execution_count": null,
      "outputs": [
        {
          "output_type": "display_data",
          "data": {
            "text/plain": [
              "<Figure size 640x480 with 1 Axes>"
            ],
            "image/png": "[encoded data removed]"
          },
          "metadata": {}
        }
      ]
    },
    {
      "cell_type": "code",
      "source": [
        "plt.bar(dt['Category'], dt['Amount'])\n",
        "plt.xlabel('Category')\n",
        "plt.ylabel('Amount')\n",
        "plt.title('Bar Plot of Amount by Category')\n",
        "plt.xticks(rotation=45)  # Rotate the x-labels for readability\n",
        "plt.show()"
      ],
      "metadata": {
        "colab": {
          "base_uri": "https://localhost:8080/",
          "height": 538
        },
        "id": "AFUidiclXx4_",
        "outputId": "c67531a3-65e4-4edf-c1f4-b104271fe85b"
      },
      "execution_count": null,
      "outputs": [
        {
          "output_type": "display_data",
          "data": {
            "text/plain": [
              "<Figure size 640x480 with 1 Axes>"
            ],
            "image/png": "[encoded data removed]"
          },
          "metadata": {}
        }
      ]
    },
    {
      "cell_type": "code",
      "source": [],
      "metadata": {
        "id": "UAS9_S6bYq8o"
      },
      "execution_count": null,
      "outputs": []
    }
  ]
}